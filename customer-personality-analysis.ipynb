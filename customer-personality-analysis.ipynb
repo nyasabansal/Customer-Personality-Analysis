{
 "cells": [
  {
   "cell_type": "code",
   "execution_count": null,
   "metadata": {
    "_cell_guid": "b1076dfc-b9ad-4769-8c92-a6c4dae69d19",
    "_uuid": "8f2839f25d086af736a60e9eeb907d3b93b6e0e5",
    "execution": {
     "iopub.execute_input": "2023-09-06T12:42:53.822593Z",
     "iopub.status.busy": "2023-09-06T12:42:53.822156Z",
     "iopub.status.idle": "2023-09-06T12:42:53.837856Z",
     "shell.execute_reply": "2023-09-06T12:42:53.836522Z",
     "shell.execute_reply.started": "2023-09-06T12:42:53.822557Z"
    }
   },
   "outputs": [],
   "source": [
    "import numpy as np \n",
    "import pandas as pd \n",
    "import matplotlib.pyplot as plt\n",
    "import seaborn as sns\n",
    "import datetime as dt\n",
    "import time\n",
    "import scipy.stats as stats\n",
    "from sklearn.impute import KNNImputer\n",
    "from sklearn.metrics import silhouette_score, calinski_harabasz_score, classification_report\n",
    "from sklearn.decomposition import PCA\n",
    "from sklearn.model_selection import train_test_split\n",
    "from sklearn.preprocessing import OrdinalEncoder, OneHotEncoder, StandardScaler\n",
    "from sklearn.cluster import KMeans\n",
    "from sklearn.neighbors import KNeighborsClassifier\n",
    "\n",
    "import os\n",
    "for dirname, _, filenames in os.walk('/kaggle/input'):\n",
    "    for filename in filenames:\n",
    "        print(os.path.join(dirname, filename))"
   ]
  },
  {
   "cell_type": "code",
   "execution_count": null,
   "metadata": {
    "execution": {
     "iopub.execute_input": "2023-09-06T12:42:53.861311Z",
     "iopub.status.busy": "2023-09-06T12:42:53.860662Z",
     "iopub.status.idle": "2023-09-06T12:42:53.878939Z",
     "shell.execute_reply": "2023-09-06T12:42:53.876853Z",
     "shell.execute_reply.started": "2023-09-06T12:42:53.861274Z"
    }
   },
   "outputs": [],
   "source": [
    "data = pd.read_csv('/kaggle/input/customer-personality-analysis/marketing_campaign.csv', sep='\\t')"
   ]
  },
  {
   "cell_type": "code",
   "execution_count": null,
   "metadata": {
    "execution": {
     "iopub.execute_input": "2023-09-06T12:42:54.206101Z",
     "iopub.status.busy": "2023-09-06T12:42:54.205350Z",
     "iopub.status.idle": "2023-09-06T12:42:54.230636Z",
     "shell.execute_reply": "2023-09-06T12:42:54.228968Z",
     "shell.execute_reply.started": "2023-09-06T12:42:54.206050Z"
    }
   },
   "outputs": [],
   "source": [
    "data.head()"
   ]
  },
  {
   "cell_type": "markdown",
   "metadata": {},
   "source": [
    "#### 1) Business understanding: \n",
    "**What we are facing here is a key business question: \"To whom should we advertise and which products?\"**\n",
    "\n",
    "To answer this question we have to refer to an unsupervised learning algorithm like K-Mean Clustering. Because we don't already have any classification for the customers at hand. So we have to allow the machine to that for us and then we evaluate it."
   ]
  },
  {
   "cell_type": "markdown",
   "metadata": {},
   "source": [
    "#### 2) Data Cleaning:"
   ]
  },
  {
   "cell_type": "code",
   "execution_count": null,
   "metadata": {
    "execution": {
     "iopub.execute_input": "2023-09-06T12:42:54.272959Z",
     "iopub.status.busy": "2023-09-06T12:42:54.272531Z",
     "iopub.status.idle": "2023-09-06T12:42:54.288169Z",
     "shell.execute_reply": "2023-09-06T12:42:54.286751Z",
     "shell.execute_reply.started": "2023-09-06T12:42:54.272921Z"
    }
   },
   "outputs": [],
   "source": [
    "data.nunique()"
   ]
  },
  {
   "cell_type": "code",
   "execution_count": null,
   "metadata": {
    "execution": {
     "iopub.execute_input": "2023-09-06T12:42:54.321608Z",
     "iopub.status.busy": "2023-09-06T12:42:54.321168Z",
     "iopub.status.idle": "2023-09-06T12:42:54.329094Z",
     "shell.execute_reply": "2023-09-06T12:42:54.327435Z",
     "shell.execute_reply.started": "2023-09-06T12:42:54.321571Z"
    }
   },
   "outputs": [],
   "source": [
    "# Z_CostContact and Z_Revenue don't contribute to our Model. They have only one value in all rows.\n",
    "data.drop(columns = ['Z_CostContact', 'Z_Revenue'], inplace =True)"
   ]
  },
  {
   "cell_type": "code",
   "execution_count": null,
   "metadata": {
    "execution": {
     "iopub.execute_input": "2023-09-06T12:42:54.393931Z",
     "iopub.status.busy": "2023-09-06T12:42:54.392742Z",
     "iopub.status.idle": "2023-09-06T12:42:54.403306Z",
     "shell.execute_reply": "2023-09-06T12:42:54.401795Z",
     "shell.execute_reply.started": "2023-09-06T12:42:54.393886Z"
    }
   },
   "outputs": [],
   "source": [
    "# Checking number of unique categories present in the \"Marital_Status\"\n",
    "\n",
    "data['Marital_Status'].value_counts()"
   ]
  },
  {
   "cell_type": "markdown",
   "metadata": {},
   "source": [
    "* We are grouping 'Married', 'Together' as \"relationship\"\n",
    "* Whereas 'Divorced', 'Widow', 'Alone', 'YOLO', 'Absurd' as \"Single\""
   ]
  },
  {
   "cell_type": "code",
   "execution_count": null,
   "metadata": {
    "execution": {
     "iopub.execute_input": "2023-09-06T12:42:54.473971Z",
     "iopub.status.busy": "2023-09-06T12:42:54.473571Z",
     "iopub.status.idle": "2023-09-06T12:42:54.489632Z",
     "shell.execute_reply": "2023-09-06T12:42:54.488520Z",
     "shell.execute_reply.started": "2023-09-06T12:42:54.473938Z"
    }
   },
   "outputs": [],
   "source": [
    "data['Marital_Status'] = data['Marital_Status'].replace(['Married', 'Together'],'relationship')\n",
    "data['Marital_Status'] = data['Marital_Status'].replace(['Divorced', 'Widow', 'Alone', 'YOLO', 'Absurd'],'Single')\n",
    "data['Marital_Status'].value_counts()"
   ]
  },
  {
   "cell_type": "code",
   "execution_count": null,
   "metadata": {
    "execution": {
     "iopub.execute_input": "2023-09-06T12:42:54.550807Z",
     "iopub.status.busy": "2023-09-06T12:42:54.550347Z",
     "iopub.status.idle": "2023-09-06T12:42:54.562969Z",
     "shell.execute_reply": "2023-09-06T12:42:54.561610Z",
     "shell.execute_reply.started": "2023-09-06T12:42:54.550770Z"
    }
   },
   "outputs": [],
   "source": [
    "data['Education'].value_counts()"
   ]
  },
  {
   "cell_type": "markdown",
   "metadata": {},
   "source": [
    "grouping \n",
    "* 'PhD', 'Master', '2n Cycle' as '4' \n",
    "* 'Basic' as '0'\n",
    "* 'Graduation', as \"2\""
   ]
  },
  {
   "cell_type": "code",
   "execution_count": null,
   "metadata": {
    "execution": {
     "iopub.execute_input": "2023-09-06T12:42:54.622844Z",
     "iopub.status.busy": "2023-09-06T12:42:54.622109Z",
     "iopub.status.idle": "2023-09-06T12:42:54.635257Z",
     "shell.execute_reply": "2023-09-06T12:42:54.633842Z",
     "shell.execute_reply.started": "2023-09-06T12:42:54.622806Z"
    }
   },
   "outputs": [],
   "source": [
    "encoding_education = {'Basic':0,'Graduation':2,'2n Cycle':4, 'Master':4, 'PhD':4}\n",
    "\n",
    "data['Education'] = data['Education'].replace(encoding_education)\n",
    "data['Education'].value_counts()"
   ]
  },
  {
   "cell_type": "markdown",
   "metadata": {},
   "source": [
    "* Transforming Dt_customer column to Customer Lifespan\n",
    "* transforming Year_Birth to Age"
   ]
  },
  {
   "cell_type": "code",
   "execution_count": null,
   "metadata": {
    "execution": {
     "iopub.execute_input": "2023-09-06T12:42:55.010849Z",
     "iopub.status.busy": "2023-09-06T12:42:55.010443Z",
     "iopub.status.idle": "2023-09-06T12:42:56.028479Z",
     "shell.execute_reply": "2023-09-06T12:42:56.027614Z",
     "shell.execute_reply.started": "2023-09-06T12:42:55.010816Z"
    }
   },
   "outputs": [],
   "source": [
    "current_time = time.time()\n",
    "current_year = dt.datetime.fromtimestamp(current_time).year\n",
    "\n",
    "# Dt_Customer column - first Replace incorrect values with NaN\n",
    "data['Dt_Customer'] = data['Dt_Customer'].apply(lambda x: x if pd.to_datetime(x, errors='coerce', dayfirst=True) is not pd.NaT else None)\n",
    "\n",
    "# Remove rows with invalid date values\n",
    "data.dropna(subset=['Dt_Customer'], inplace = True)\n",
    "\n",
    "# transforming\n",
    "data['Dt_Customer'] = pd.to_datetime(data['Dt_Customer'], dayfirst=True)\n",
    "data['Dt_Customer'] = data['Dt_Customer'].dt.year\n",
    "data['Customer_Lifespan'] = current_year - data['Dt_Customer']\n",
    "\n",
    "# Year_Birth column\n",
    "data['Age'] = current_year - data['Year_Birth']\n",
    "\n",
    "data"
   ]
  },
  {
   "cell_type": "code",
   "execution_count": null,
   "metadata": {
    "execution": {
     "iopub.execute_input": "2023-09-06T12:42:56.030546Z",
     "iopub.status.busy": "2023-09-06T12:42:56.030020Z",
     "iopub.status.idle": "2023-09-06T12:42:56.039226Z",
     "shell.execute_reply": "2023-09-06T12:42:56.038117Z",
     "shell.execute_reply.started": "2023-09-06T12:42:56.030515Z"
    }
   },
   "outputs": [],
   "source": [
    "data.isnull().sum()"
   ]
  },
  {
   "cell_type": "markdown",
   "metadata": {},
   "source": [
    "As it is only 24 out of 2240 data points , we can drop it. but i want to impute it using Education and year_birth and income:"
   ]
  },
  {
   "cell_type": "code",
   "execution_count": null,
   "metadata": {
    "execution": {
     "iopub.execute_input": "2023-09-06T12:42:56.041387Z",
     "iopub.status.busy": "2023-09-06T12:42:56.041016Z",
     "iopub.status.idle": "2023-09-06T12:42:56.061022Z",
     "shell.execute_reply": "2023-09-06T12:42:56.059837Z",
     "shell.execute_reply.started": "2023-09-06T12:42:56.041346Z"
    }
   },
   "outputs": [],
   "source": [
    "imputer = KNNImputer(n_neighbors=10)\n",
    "\n",
    "x = data[['Year_Birth','Education', 'Income']]\n",
    "\n",
    "# now we can Impute our null values:\n",
    "x_imputed = imputer.fit_transform(x)\n",
    "\n",
    "# make dataframe\n",
    "x_imputed = pd.DataFrame(x_imputed, columns = x.columns)\n",
    "\n",
    "#replace the Income column from x in original 'data':\n",
    "data['Income'] = x_imputed['Income']"
   ]
  },
  {
   "cell_type": "code",
   "execution_count": null,
   "metadata": {
    "execution": {
     "iopub.execute_input": "2023-09-06T12:42:56.063784Z",
     "iopub.status.busy": "2023-09-06T12:42:56.063350Z",
     "iopub.status.idle": "2023-09-06T12:42:56.154612Z",
     "shell.execute_reply": "2023-09-06T12:42:56.153453Z",
     "shell.execute_reply.started": "2023-09-06T12:42:56.063749Z"
    }
   },
   "outputs": [],
   "source": [
    "data.describe()"
   ]
  },
  {
   "cell_type": "markdown",
   "metadata": {},
   "source": [
    "As we see in min of Year_Birth, we see outlier/-s.\n",
    "\n",
    "As we see in min and max of Income column, there exists outlier/-s.\n",
    "\n",
    "As we see in max of MntWines, MntFruits, MntMeatProducts, MntFishProducts, MntSweetProducts, MntGoldProds columns, there exists outlier/-s."
   ]
  },
  {
   "cell_type": "code",
   "execution_count": null,
   "metadata": {
    "execution": {
     "iopub.execute_input": "2023-09-06T12:42:56.156605Z",
     "iopub.status.busy": "2023-09-06T12:42:56.156222Z",
     "iopub.status.idle": "2023-09-06T12:42:58.525673Z",
     "shell.execute_reply": "2023-09-06T12:42:58.524500Z",
     "shell.execute_reply.started": "2023-09-06T12:42:56.156570Z"
    }
   },
   "outputs": [],
   "source": [
    "#Let's see what is going on in Year_Birth, Income, and Minutes in different sections:\n",
    "sns.set()\n",
    "fig, axes = plt.subplots(2, 3, figsize=(16,7))\n",
    "\n",
    "axes[0,0].hist(data['Age'])\n",
    "axes[0,0].set_title('Age')\n",
    "\n",
    "axes[0,1].hist(data['Income'])\n",
    "axes[0,1].set_title('Income')\n",
    "\n",
    "axes[0,2].hist(data['MntFruits'])\n",
    "axes[0,2].set_title('Amount Spent On Fruit')\n",
    "\n",
    "axes[1,0].hist(data['MntMeatProducts'])\n",
    "axes[1,0].set_title('Amount Spent On Meat')\n",
    "\n",
    "axes[1,1].hist(data['MntSweetProducts'])\n",
    "axes[1,1].set_title('Amount Spent On Sweet')\n",
    "\n",
    "axes[1,2].hist(data['MntWines'])\n",
    "axes[1,2].set_title('Amount Spent On Wine')\n",
    "\n",
    "plt.tight_layout()"
   ]
  },
  {
   "cell_type": "markdown",
   "metadata": {},
   "source": [
    "#### Our guess was true about income , age and MntMeatProds but the other columns are right skewed. not just couple of outliers."
   ]
  },
  {
   "cell_type": "code",
   "execution_count": null,
   "metadata": {
    "execution": {
     "iopub.execute_input": "2023-09-06T12:42:58.527287Z",
     "iopub.status.busy": "2023-09-06T12:42:58.526944Z",
     "iopub.status.idle": "2023-09-06T12:42:58.539993Z",
     "shell.execute_reply": "2023-09-06T12:42:58.538936Z",
     "shell.execute_reply.started": "2023-09-06T12:42:58.527253Z"
    }
   },
   "outputs": [],
   "source": [
    "# removing 0.5% from the upper side of 'Age' column\n",
    "upper_bound = np.percentile(data['Age'], 99.5)\n",
    "data = data[data['Age'] <= upper_bound]\n",
    "\n",
    "# removing 0.5% from the upper side of 'Income' column\n",
    "upper_bound = np.percentile(data['Income'], 99.5)\n",
    "data = data[data['Income'] <= upper_bound]\n",
    "\n",
    "# removing outliers of MntMeat for more that 1200 minutes and MntGold for more than 250 (we will remove 6 rows overall)\n",
    "data = data[data['MntMeatProducts'] < 1250]\n",
    "data = data[data['MntGoldProds'] <= 250]"
   ]
  },
  {
   "cell_type": "code",
   "execution_count": null,
   "metadata": {
    "execution": {
     "iopub.execute_input": "2023-09-06T12:42:58.542316Z",
     "iopub.status.busy": "2023-09-06T12:42:58.541854Z",
     "iopub.status.idle": "2023-09-06T12:42:59.122147Z",
     "shell.execute_reply": "2023-09-06T12:42:59.120840Z",
     "shell.execute_reply.started": "2023-09-06T12:42:58.542272Z"
    }
   },
   "outputs": [],
   "source": [
    "sns.set()\n",
    "fig, (ax1, ax2) = plt.subplots(1, 2, figsize=(10,3))\n",
    "\n",
    "ax1.hist(data['Year_Birth'])\n",
    "ax2.hist(data['Income'])"
   ]
  },
  {
   "cell_type": "markdown",
   "metadata": {},
   "source": [
    "#### Much Better result just by removing 24 rows equal to 1% of the data."
   ]
  },
  {
   "cell_type": "code",
   "execution_count": null,
   "metadata": {
    "execution": {
     "iopub.execute_input": "2023-09-06T12:42:59.123835Z",
     "iopub.status.busy": "2023-09-06T12:42:59.123514Z",
     "iopub.status.idle": "2023-09-06T12:42:59.560664Z",
     "shell.execute_reply": "2023-09-06T12:42:59.559115Z",
     "shell.execute_reply.started": "2023-09-06T12:42:59.123807Z"
    }
   },
   "outputs": [],
   "source": [
    "# let's see the correlation between the amount spent on different categories:\n",
    "sns.reset_orig()\n",
    "plt.figure(figsize=(6,4))\n",
    "\n",
    "# how spent features are correlated?\n",
    "corr = data[[\"MntFruits\", \"MntMeatProducts\", \"MntFishProducts\", \"MntSweetProducts\", \"MntGoldProds\", \"MntWines\"]].corr(numeric_only = True)\n",
    "\n",
    "sns.heatmap(corr, cmap = 'Greys', annot=True, annot_kws={'fontsize':5.5})"
   ]
  },
  {
   "cell_type": "markdown",
   "metadata": {},
   "source": [
    "##### We see a positive correlatoon between the amount spent in different categories. \n",
    "##### so for reducing the dimesionality we can add them together for each person as customer lifetime value."
   ]
  },
  {
   "cell_type": "code",
   "execution_count": null,
   "metadata": {
    "execution": {
     "iopub.execute_input": "2023-09-06T12:42:59.564125Z",
     "iopub.status.busy": "2023-09-06T12:42:59.563760Z",
     "iopub.status.idle": "2023-09-06T12:42:59.594723Z",
     "shell.execute_reply": "2023-09-06T12:42:59.593895Z",
     "shell.execute_reply.started": "2023-09-06T12:42:59.564093Z"
    }
   },
   "outputs": [],
   "source": [
    "# reducing dimension by combining some columns:\n",
    "data['Kids'] = data['Kidhome'] + data['Teenhome']\n",
    "\n",
    "data['TotalAcceptedCmp'] = data['AcceptedCmp1'] + data['AcceptedCmp2'] + data['AcceptedCmp3'] \\\n",
    "+ data['AcceptedCmp4'] + data['AcceptedCmp5'] + data['Response']\n",
    "\n",
    "data['Customer_Lifetime_Value'] = data['MntFruits'] + data['MntMeatProducts'] + data['MntFishProducts'] + data['MntSweetProducts'] \\\n",
    "+ data['MntGoldProds'] + data['MntWines']\n",
    "\n",
    "# Deleting some column to reduce dimension and complexity of model\n",
    "col_del = [\"AcceptedCmp1\" , \"AcceptedCmp2\", \"AcceptedCmp3\" , \"AcceptedCmp4\",'Teenhome', 'Kidhome',\n",
    "           \"MntFruits\", \"MntMeatProducts\", \"MntFishProducts\", \"MntSweetProducts\", \"MntGoldProds\", \"MntWines\",\n",
    "           \"AcceptedCmp5\", \"Response\", \"Dt_Customer\", \"Year_Birth\"]\n",
    "data = data.drop(columns=col_del, axis=1)\n",
    "\n",
    "# ordering the columns again:\n",
    "data = data[['ID', 'Age', 'Kids', 'Education', 'Income' , 'Marital_Status', 'TotalAcceptedCmp', 'Customer_Lifespan', 'Recency', 'Customer_Lifetime_Value',\n",
    "             'NumDealsPurchases', 'NumWebPurchases', 'NumCatalogPurchases', 'NumStorePurchases', 'NumWebVisitsMonth', 'Complain']]\n",
    "data.head()"
   ]
  },
  {
   "cell_type": "markdown",
   "metadata": {},
   "source": [
    "#### 3) Exploratory Data Analysis:"
   ]
  },
  {
   "cell_type": "code",
   "execution_count": null,
   "metadata": {
    "execution": {
     "iopub.execute_input": "2023-09-06T12:42:59.596777Z",
     "iopub.status.busy": "2023-09-06T12:42:59.595993Z",
     "iopub.status.idle": "2023-09-06T12:43:00.452367Z",
     "shell.execute_reply": "2023-09-06T12:43:00.451207Z",
     "shell.execute_reply.started": "2023-09-06T12:42:59.596742Z"
    }
   },
   "outputs": [],
   "source": [
    "sns.reset_orig()\n",
    "plt.figure(figsize=(9,7))\n",
    "\n",
    "# how features are correlated?\n",
    "corr = data.corr(numeric_only = True)\n",
    "\n",
    "# removing the upper triangle\n",
    "mask = np.triu(np.ones_like(corr, dtype = bool))\n",
    "\n",
    "# color map for better visualization\n",
    "cmap = sns.color_palette('coolwarm', as_cmap = True)\n",
    "\n",
    "#\n",
    "sns.heatmap(corr, cmap = cmap, mask = mask, annot=True, annot_kws={'fontsize':5.5})"
   ]
  },
  {
   "cell_type": "code",
   "execution_count": null,
   "metadata": {
    "execution": {
     "iopub.execute_input": "2023-09-06T12:43:00.454176Z",
     "iopub.status.busy": "2023-09-06T12:43:00.453749Z",
     "iopub.status.idle": "2023-09-06T12:43:01.443633Z",
     "shell.execute_reply": "2023-09-06T12:43:01.442332Z",
     "shell.execute_reply.started": "2023-09-06T12:43:00.454138Z"
    }
   },
   "outputs": [],
   "source": [
    "sns.set()\n",
    "\n",
    "# group the number of web visits by number of kids in Home.\n",
    "kid_web_corr = data['NumWebVisitsMonth'].groupby(data['Kids']).mean()\n",
    "\n",
    "# group the income by number of Kids at home.\n",
    "income_kid_corr = data['Income'].groupby(data['Kids']).mean()\n",
    "\n",
    "# group the number of web purchases by number of kids at home.\n",
    "kid_web_purchases_corr = data['NumWebPurchases'].groupby(data['Kids']).mean()\n",
    "\n",
    "# numbers to visualize\n",
    "charts_df=[kid_web_corr, kid_web_purchases_corr, income_kid_corr]\n",
    "\n",
    "# Visualization:\n",
    "fig, axes = plt.subplots(1, 3,  figsize=(12, 4), facecolor=(0.761, 0.984, 0, 0.25))\n",
    "\n",
    "# titles\n",
    "axes[0].set_title('Avg num of Web visits per num of kids', fontsize=10, pad=14)\n",
    "axes[1].set_title('Avg num of Web purchases per num of kids', fontsize=10, pad=14)\n",
    "axes[2].set_title('Avg income & number of kids', fontsize=10, pad=14)\n",
    "\n",
    "# charts\n",
    "for i in range(0, 3):\n",
    "    axes[i].tick_params(labelsize=9)\n",
    "    axes[i].bar(charts_df[i].index, charts_df[i].values, edgecolor='0.6',\n",
    "                linewidth=0.5, width=0.8, facecolor=(0.761, 0.984, 0, 0.4))\n",
    "    axes[i].set_xlabel('Number of Kids', fontsize = 9)\n",
    "    \n",
    "    x_ticks = np.arange(0, max(charts_df[i].index+1), 1)\n",
    "    axes[i].set_xticks(x_ticks)\n",
    "\n",
    "\n",
    "plt.tight_layout(pad=2)"
   ]
  },
  {
   "cell_type": "markdown",
   "metadata": {},
   "source": [
    "* **More kids = More web visits BUT less purchases.** Not only web purchases , but also store purchases according to correlation Matrix. it makes sense that they visit website to buy online because they have less time to go outside but why do they don't buy?\n",
    "The answer is in the right chart. Families with less income have more kids. So they visit the website more but they can't usually buy.\n",
    "\n",
    "* According to correlation matix , **more income = more in store purchases and less web visits.**\n",
    "* Families with kids, are more interested in buying with discount."
   ]
  },
  {
   "cell_type": "code",
   "execution_count": null,
   "metadata": {
    "execution": {
     "iopub.execute_input": "2023-09-06T12:43:01.446019Z",
     "iopub.status.busy": "2023-09-06T12:43:01.445134Z",
     "iopub.status.idle": "2023-09-06T12:43:01.497801Z",
     "shell.execute_reply": "2023-09-06T12:43:01.496605Z",
     "shell.execute_reply.started": "2023-09-06T12:43:01.445980Z"
    }
   },
   "outputs": [],
   "source": [
    "df = pd.read_csv('/kaggle/input/customer-personality-analysis/marketing_campaign.csv', sep='\\t')\n",
    "\n",
    "# new dataframe just for Campaigns\n",
    "accepted_campaigns = pd.DataFrame(index = ['Average_Income', 'Total_Num_Families', 'Year_Birth', 'KidHome'], \n",
    "                                  columns = ['NotAccepted_Cmp1', 'Accepted_Cmp1', 'NotAccepted_cmp2', 'Accepted_Cmp2', \n",
    "                                            'NotAccepted_Cmp3', 'Accepted_Cmp3', 'NotAccepted_cmp4', 'Accepted_Cmp4',\n",
    "                                            'NotAccepted_Cmp5', 'Accepted_Cmp5'])\n",
    "\n",
    "# loop for filling the dataframe\n",
    "for i in range(0, 5):\n",
    "    j = i * 2\n",
    "    accepted_campaigns.iloc[0, j:j+2] = round(df['Income'].groupby(df[f'AcceptedCmp{i+1}']).mean()).transpose()\n",
    "    accepted_campaigns.iloc[1, j:j+2] = round(df['Income'].groupby(df[f'AcceptedCmp{i+1}']).count()).transpose()\n",
    "    accepted_campaigns.iloc[2, j:j+2] = round(df['Year_Birth'].groupby(df[f'AcceptedCmp{i+1}']).mean()).transpose()\n",
    "    accepted_campaigns.iloc[3, j:j+2] = round(df['Kidhome'].groupby(df[f'AcceptedCmp{i+1}']).mean(), ndigits=2).transpose()\n",
    "\n",
    "accepted_campaigns"
   ]
  },
  {
   "cell_type": "markdown",
   "metadata": {},
   "source": [
    "* Around 7% of the customers accepted each campaign. Campain 2 was the worst with 1.3% acceptance.\n",
    "* Around 50% of the Families with Kids didn't accept any campaigns except for Campain 3. So surely it has something interesting for them.\n",
    "* Families with more Income accepted the campaigns.\n",
    "* From the average Age of the customers, we cannot conclude anything because they are very close. (Correlation Matrix confirms it)"
   ]
  },
  {
   "cell_type": "code",
   "execution_count": null,
   "metadata": {
    "execution": {
     "iopub.execute_input": "2023-09-06T12:43:01.499652Z",
     "iopub.status.busy": "2023-09-06T12:43:01.499282Z",
     "iopub.status.idle": "2023-09-06T12:43:01.873218Z",
     "shell.execute_reply": "2023-09-06T12:43:01.872401Z",
     "shell.execute_reply.started": "2023-09-06T12:43:01.499616Z"
    }
   },
   "outputs": [],
   "source": [
    "plt.scatter(data['Income'], data['Customer_Lifetime_Value'])\n",
    "plt.xlabel('Income')\n",
    "plt.ylabel('CLV')"
   ]
  },
  {
   "cell_type": "code",
   "execution_count": null,
   "metadata": {
    "execution": {
     "iopub.execute_input": "2023-09-06T12:43:01.875268Z",
     "iopub.status.busy": "2023-09-06T12:43:01.874716Z",
     "iopub.status.idle": "2023-09-06T12:43:02.231216Z",
     "shell.execute_reply": "2023-09-06T12:43:02.230061Z",
     "shell.execute_reply.started": "2023-09-06T12:43:01.875234Z"
    }
   },
   "outputs": [],
   "source": [
    "plt.hist(data['Customer_Lifetime_Value'])\n",
    "plt.xlabel('Amount')\n",
    "plt.ylabel('Count')"
   ]
  },
  {
   "cell_type": "markdown",
   "metadata": {},
   "source": [
    "As we can see, Customer Lifetime Value is heavily right skewed. we see Heteroscadastisity. On the other hand these CLV and Income feature have huge variance and they can affect the clustering because K-Mean Clustering is a distance sensitive method.\n",
    "So the best way to solve this is to transform and Scale all the columns."
   ]
  },
  {
   "cell_type": "code",
   "execution_count": null,
   "metadata": {
    "execution": {
     "iopub.execute_input": "2023-09-06T12:43:02.233034Z",
     "iopub.status.busy": "2023-09-06T12:43:02.232662Z",
     "iopub.status.idle": "2023-09-06T12:43:02.619350Z",
     "shell.execute_reply": "2023-09-06T12:43:02.618330Z",
     "shell.execute_reply.started": "2023-09-06T12:43:02.233000Z"
    }
   },
   "outputs": [],
   "source": [
    "# let's see the influence of log transform:\n",
    "plt.scatter(np.cbrt(data['Income']), np.log(data['Customer_Lifetime_Value']))\n",
    "plt.xlabel('Income')\n",
    "plt.ylabel('CLV')"
   ]
  },
  {
   "cell_type": "markdown",
   "metadata": {},
   "source": [
    "**Now we have more balanced data.**"
   ]
  },
  {
   "cell_type": "code",
   "execution_count": null,
   "metadata": {
    "execution": {
     "iopub.execute_input": "2023-09-06T12:43:02.621183Z",
     "iopub.status.busy": "2023-09-06T12:43:02.620820Z",
     "iopub.status.idle": "2023-09-06T12:43:02.634488Z",
     "shell.execute_reply": "2023-09-06T12:43:02.633029Z",
     "shell.execute_reply.started": "2023-09-06T12:43:02.621150Z"
    }
   },
   "outputs": [],
   "source": [
    "# first using OneHotEncoding to change categories to numerical columns\n",
    "columns_to_encode = pd.get_dummies(data['Marital_Status'], dtype='int', drop_first= True)\n",
    "\n",
    "# joining the dummies columns with our  dataframe\n",
    "data_encoded = pd.concat([data, columns_to_encode], axis = 1)\n",
    "\n",
    "# drop the original columns\n",
    "data_encoded.drop(labels = ['Marital_Status', 'ID'], axis = 1, inplace = True)"
   ]
  },
  {
   "cell_type": "markdown",
   "metadata": {},
   "source": [
    "#### 4) Feature Selection:\n",
    "\n",
    "in order to use k-means Clustering , we have to reduce the dimension as much as possible. Let's do that using PCA."
   ]
  },
  {
   "cell_type": "code",
   "execution_count": null,
   "metadata": {
    "execution": {
     "iopub.execute_input": "2023-09-06T12:43:02.695727Z",
     "iopub.status.busy": "2023-09-06T12:43:02.695358Z",
     "iopub.status.idle": "2023-09-06T12:43:02.761654Z",
     "shell.execute_reply": "2023-09-06T12:43:02.760535Z",
     "shell.execute_reply.started": "2023-09-06T12:43:02.695697Z"
    }
   },
   "outputs": [],
   "source": [
    "# creating train test data\n",
    "df_train, df_test = train_test_split(data_encoded, test_size=0.2, random_state = 77)\n",
    "\n",
    "scaler = StandardScaler()\n",
    "\n",
    "# train data:\n",
    "data_scaled = scaler.fit_transform(df_train)\n",
    "data_train = pd.DataFrame(columns = data_encoded.columns, data=data_scaled)\n",
    "\n",
    "# test data:\n",
    "data_scaled_ = scaler.transform(df_test)\n",
    "data_test = pd.DataFrame(columns = data_encoded.columns, data = data_scaled_)\n",
    "\n",
    "# I preserve d_train and d_test dataframe for later use\n",
    "data_train.head(3)"
   ]
  },
  {
   "cell_type": "code",
   "execution_count": null,
   "metadata": {
    "execution": {
     "iopub.execute_input": "2023-09-06T12:43:02.765163Z",
     "iopub.status.busy": "2023-09-06T12:43:02.764798Z",
     "iopub.status.idle": "2023-09-06T12:43:02.787127Z",
     "shell.execute_reply": "2023-09-06T12:43:02.785535Z",
     "shell.execute_reply.started": "2023-09-06T12:43:02.765133Z"
    }
   },
   "outputs": [],
   "source": [
    "number_of_components = 2\n",
    "pca = PCA(n_components= number_of_components)\n",
    "pca.fit(data_train)\n",
    "\n",
    "# let's see how much variance do the first 2 components explained\n",
    "pca.explained_variance_ratio_"
   ]
  },
  {
   "cell_type": "markdown",
   "metadata": {},
   "source": [
    "As we see the first 2 explained around 42% of the variance which is not very impressive."
   ]
  },
  {
   "cell_type": "markdown",
   "metadata": {},
   "source": [
    "PCA Dataframe:"
   ]
  },
  {
   "cell_type": "code",
   "execution_count": null,
   "metadata": {
    "execution": {
     "iopub.execute_input": "2023-09-06T12:43:02.789182Z",
     "iopub.status.busy": "2023-09-06T12:43:02.788750Z",
     "iopub.status.idle": "2023-09-06T12:43:02.828659Z",
     "shell.execute_reply": "2023-09-06T12:43:02.827487Z",
     "shell.execute_reply.started": "2023-09-06T12:43:02.789138Z"
    }
   },
   "outputs": [],
   "source": [
    "columns = []\n",
    "pca_data_train = pca.transform(data_train)\n",
    "for component in range(0, number_of_components):\n",
    "    column_name = 'Component_' + str(component + 1)\n",
    "    columns.append(column_name)\n",
    "    \n",
    "pca_df = pd.DataFrame(columns=columns, data=pca_data_train)\n",
    "pca_df.head(3)"
   ]
  },
  {
   "cell_type": "markdown",
   "metadata": {},
   "source": [
    "#### Evaluation using Elbow method to find the best number of clusters:"
   ]
  },
  {
   "cell_type": "code",
   "execution_count": null,
   "metadata": {
    "execution": {
     "iopub.execute_input": "2023-09-06T12:43:02.830727Z",
     "iopub.status.busy": "2023-09-06T12:43:02.830263Z",
     "iopub.status.idle": "2023-09-06T12:43:03.305696Z",
     "shell.execute_reply": "2023-09-06T12:43:03.304472Z",
     "shell.execute_reply.started": "2023-09-06T12:43:02.830671Z"
    }
   },
   "outputs": [],
   "source": [
    "# elbow mthod:\n",
    "\n",
    "# Initialize an empty list to store the inertia values\n",
    "inertia_values = []\n",
    "\n",
    "# Fit K-Means models for different values of k and calculate inertia\n",
    "for k in range(2,11):\n",
    "    kmeans = KMeans(n_clusters=k, init='k-means++', random_state=77, n_init='auto')  # You can adjust random_state\n",
    "    kmeans.fit(pca_df)  \n",
    "    inertia_values.append(kmeans.inertia_)\n",
    "    \n",
    "# Plot the Elbow Curve\n",
    "plt.figure(figsize=(8, 6))\n",
    "plt.plot(range(2,11), inertia_values, marker='o', linestyle='-', color='b')\n",
    "plt.xlabel('Number of Clusters (k)')\n",
    "plt.ylabel('Inertia')\n",
    "plt.title('Elbow Method for Optimal k')\n",
    "plt.grid(True)\n",
    "plt.show()"
   ]
  },
  {
   "cell_type": "markdown",
   "metadata": {},
   "source": [
    "#### Evaluation using Silhouette score to find the best number of clusters:"
   ]
  },
  {
   "cell_type": "code",
   "execution_count": null,
   "metadata": {
    "execution": {
     "iopub.execute_input": "2023-09-06T12:43:03.308343Z",
     "iopub.status.busy": "2023-09-06T12:43:03.307715Z",
     "iopub.status.idle": "2023-09-06T12:43:04.533276Z",
     "shell.execute_reply": "2023-09-06T12:43:04.531750Z",
     "shell.execute_reply.started": "2023-09-06T12:43:03.308295Z"
    }
   },
   "outputs": [],
   "source": [
    "for num_clusters in range(2, 11):  # Evaluate cluster numbers from 2 to 10\n",
    "    kmeans = KMeans(n_clusters=num_clusters, n_init = 'auto', random_state= 77)\n",
    "    kmeans.fit(pca_df)\n",
    "    labels = kmeans.labels_\n",
    "    silhouette_avg = silhouette_score(pca_df, labels)\n",
    "    print(f\"For {num_clusters} clusters, Silhouette Score:\", silhouette_avg)"
   ]
  },
  {
   "cell_type": "markdown",
   "metadata": {},
   "source": [
    "#### Evaluation using calinski harabasz score to find the best number of clusters:"
   ]
  },
  {
   "cell_type": "code",
   "execution_count": null,
   "metadata": {
    "execution": {
     "iopub.execute_input": "2023-09-06T12:43:04.545469Z",
     "iopub.status.busy": "2023-09-06T12:43:04.544865Z",
     "iopub.status.idle": "2023-09-06T12:43:04.719778Z",
     "shell.execute_reply": "2023-09-06T12:43:04.718894Z",
     "shell.execute_reply.started": "2023-09-06T12:43:04.545405Z"
    }
   },
   "outputs": [],
   "source": [
    "for num_clusters in range(2, 11):  # Evaluate cluster numbers from 2 to 10\n",
    "    kmeans = KMeans(n_clusters=num_clusters, n_init= 'auto', random_state = 77)  # Replace num_clusters with the number of clusters you want to evaluate\n",
    "    kmeans.fit(pca_df)\n",
    "    labels = kmeans.labels_\n",
    "\n",
    "    # Calculate the Calinski-Harabasz score\n",
    "    calinski_harabasz = calinski_harabasz_score(pca_df, labels)\n",
    "    print(f\"For {num_clusters} clusters, Calinski-Harabasz Score:\", calinski_harabasz)"
   ]
  },
  {
   "cell_type": "code",
   "execution_count": null,
   "metadata": {
    "execution": {
     "iopub.execute_input": "2023-09-06T12:43:04.723363Z",
     "iopub.status.busy": "2023-09-06T12:43:04.722951Z",
     "iopub.status.idle": "2023-09-06T12:43:04.772363Z",
     "shell.execute_reply": "2023-09-06T12:43:04.771177Z",
     "shell.execute_reply.started": "2023-09-06T12:43:04.723329Z"
    }
   },
   "outputs": [],
   "source": [
    "kmeans = KMeans(n_clusters=3, n_init= 'auto', random_state = 77)\n",
    "clusters = kmeans.fit_predict(pca_df)\n",
    "pca_df['Target'] = clusters\n",
    "pca_df.head(3)"
   ]
  },
  {
   "cell_type": "code",
   "execution_count": null,
   "metadata": {
    "execution": {
     "iopub.execute_input": "2023-09-06T12:43:04.774024Z",
     "iopub.status.busy": "2023-09-06T12:43:04.773680Z",
     "iopub.status.idle": "2023-09-06T12:43:04.798879Z",
     "shell.execute_reply": "2023-09-06T12:43:04.797667Z",
     "shell.execute_reply.started": "2023-09-06T12:43:04.773991Z"
    }
   },
   "outputs": [],
   "source": [
    "df_train.reset_index(inplace = True, drop = True)\n",
    "df_train['Target'] = pca_df['Target']\n",
    "df_train.head(2)"
   ]
  },
  {
   "cell_type": "markdown",
   "metadata": {},
   "source": [
    "### Testing our Classification using observation in the dataset:"
   ]
  },
  {
   "cell_type": "code",
   "execution_count": null,
   "metadata": {
    "execution": {
     "iopub.execute_input": "2023-09-06T12:43:04.801946Z",
     "iopub.status.busy": "2023-09-06T12:43:04.800753Z",
     "iopub.status.idle": "2023-09-06T12:43:08.429123Z",
     "shell.execute_reply": "2023-09-06T12:43:08.427872Z",
     "shell.execute_reply.started": "2023-09-06T12:43:04.801895Z"
    }
   },
   "outputs": [],
   "source": [
    "# Define the columns you want to visualize\n",
    "columns_selected = ['Age', 'Kids', 'Income', 'TotalAcceptedCmp', 'Customer_Lifespan', 'Recency',\n",
    "                    'Customer_Lifetime_Value', 'NumDealsPurchases', 'NumWebPurchases',\n",
    "                    'NumCatalogPurchases', 'NumStorePurchases', 'NumWebVisitsMonth',\n",
    "                    'Complain', \n",
    "                    'Education',\n",
    "                    'relationship']\n",
    "\n",
    "# Create a 4x4 grid of subplots\n",
    "fig, axes = plt.subplots(4, 4, figsize=(16, 9))\n",
    "\n",
    "# Flatten the 2D axes array to iterate over it easily\n",
    "axes = axes.flatten()\n",
    "\n",
    "# Iterate through the selected columns and plot each one\n",
    "for i, column in enumerate(columns_selected):\n",
    "    # Group data by 'Target' and calculate the mean for the current column\n",
    "    grouped_data = df_train[column].groupby(by=df_train['Target']).mean()\n",
    "    \n",
    "    # Determine the row and column for the current subplot\n",
    "    row = i // 4\n",
    "    col = i % 4\n",
    "    \n",
    "    # Plot the bar chart in the current subplot\n",
    "    sns.barplot(x=grouped_data.index, y=grouped_data.values, ax=axes[i], palette='viridis')\n",
    "    axes[i].set_xlabel('Groups', fontsize=9)\n",
    "    axes[i].set_ylabel(column, fontsize=9)\n",
    "    axes[i].tick_params(labelsize=9)\n",
    "    axes[i].set_xticks(grouped_data.index)\n",
    "    axes[i].set_title(f'Mean {column} by Target', fontsize=10)\n",
    "\n",
    "# Adjust layout and display the subplots\n",
    "plt.tight_layout()\n",
    "plt.show()\n"
   ]
  },
  {
   "cell_type": "markdown",
   "metadata": {},
   "source": [
    "Let's see the differences between the groups and \n",
    "### evaluating the classes:\n",
    "\n",
    "* We don't see a signifact difference between the mean of age in different groups.\n",
    "* group 0 and 2 have on average more than 1 kid. and group 1 barely have 1 kid. \n",
    "* Although group 0 have the same amount of kids as group 2 but they have somehow half the income. So we can guess that they are less educated, they complain more and they buy less than other groups. All of these guesses are proven through the charts. \n",
    "* Group 2 has the same kids but more reasonable income, they tend to buy deals more often. They have a better CLV than group 0 but less than group 1. They tend to buy online more than other two groups. probably because they have little time outside the workplace and they want to spend time at home with their kids.\n",
    "* Group 1 have the best income, they accept the campaigns more often, they have the best CLV, they don't care about the deals, they buy from catalog and from store pretty much, they are educated and they complain rarely. "
   ]
  },
  {
   "cell_type": "markdown",
   "metadata": {},
   "source": [
    "#### Let's test the result with another number of components:"
   ]
  },
  {
   "cell_type": "code",
   "execution_count": null,
   "metadata": {
    "execution": {
     "iopub.execute_input": "2023-09-06T12:43:08.431120Z",
     "iopub.status.busy": "2023-09-06T12:43:08.430735Z",
     "iopub.status.idle": "2023-09-06T12:43:08.471169Z",
     "shell.execute_reply": "2023-09-06T12:43:08.469972Z",
     "shell.execute_reply.started": "2023-09-06T12:43:08.431088Z"
    }
   },
   "outputs": [],
   "source": [
    "number_of_components = 5\n",
    "pca = PCA(n_components= number_of_components, random_state=100)\n",
    "pca.fit(data_train)\n",
    "\n",
    "# let's see how much variance do the first 2 component's explained\n",
    "pca.explained_variance_ratio_"
   ]
  },
  {
   "cell_type": "code",
   "execution_count": null,
   "metadata": {
    "execution": {
     "iopub.execute_input": "2023-09-06T12:43:08.473590Z",
     "iopub.status.busy": "2023-09-06T12:43:08.472702Z",
     "iopub.status.idle": "2023-09-06T12:43:08.500549Z",
     "shell.execute_reply": "2023-09-06T12:43:08.499325Z",
     "shell.execute_reply.started": "2023-09-06T12:43:08.473540Z"
    }
   },
   "outputs": [],
   "source": [
    "columns = []\n",
    "pca_data_train = pca.transform(data_train)\n",
    "for component in range(0, number_of_components):\n",
    "    column_name = 'Component_' + str(component + 1)\n",
    "    columns.append(column_name)\n",
    "    \n",
    "pca_df = pd.DataFrame(columns=columns, data=pca_data_train)\n",
    "pca_df"
   ]
  },
  {
   "cell_type": "code",
   "execution_count": null,
   "metadata": {
    "execution": {
     "iopub.execute_input": "2023-09-06T12:43:08.503232Z",
     "iopub.status.busy": "2023-09-06T12:43:08.502053Z",
     "iopub.status.idle": "2023-09-06T12:43:09.040160Z",
     "shell.execute_reply": "2023-09-06T12:43:09.038903Z",
     "shell.execute_reply.started": "2023-09-06T12:43:08.503185Z"
    }
   },
   "outputs": [],
   "source": [
    "# elbow mthod:\n",
    "\n",
    "# Initialize an empty list to store the inertia values\n",
    "inertia_values = []\n",
    "\n",
    "# Fit K-Means models for different values of k and calculate inertia\n",
    "for k in range(2,11):\n",
    "    kmeans = KMeans(n_clusters=k, init='k-means++', random_state=77, n_init='auto')  # You can adjust random_state\n",
    "    kmeans.fit(pca_df)  \n",
    "    inertia_values.append(kmeans.inertia_)\n",
    "    \n",
    "# Plot the Elbow Curve\n",
    "plt.figure(figsize=(8, 6))\n",
    "plt.plot(range(2,11), inertia_values, marker='o', linestyle='-', color='b')\n",
    "plt.xlabel('Number of Clusters (k)')\n",
    "plt.ylabel('Inertia')\n",
    "plt.title('Elbow Method for Optimal k')\n",
    "plt.grid(True)\n",
    "plt.show()"
   ]
  },
  {
   "cell_type": "code",
   "execution_count": null,
   "metadata": {
    "execution": {
     "iopub.execute_input": "2023-09-06T12:43:09.042870Z",
     "iopub.status.busy": "2023-09-06T12:43:09.042052Z",
     "iopub.status.idle": "2023-09-06T12:43:10.282307Z",
     "shell.execute_reply": "2023-09-06T12:43:10.280693Z",
     "shell.execute_reply.started": "2023-09-06T12:43:09.042824Z"
    }
   },
   "outputs": [],
   "source": [
    "for num_clusters in range(2, 11):  # Evaluate cluster numbers from 2 to 10\n",
    "    kmeans = KMeans(n_clusters=num_clusters, n_init = 'auto', random_state= 77)\n",
    "    kmeans.fit(pca_df)\n",
    "    labels = kmeans.labels_\n",
    "    silhouette_avg = silhouette_score(pca_df, labels)\n",
    "    print(f\"For {num_clusters} clusters, Silhouette Score:\", silhouette_avg)"
   ]
  },
  {
   "cell_type": "code",
   "execution_count": null,
   "metadata": {
    "execution": {
     "iopub.execute_input": "2023-09-06T12:43:10.287479Z",
     "iopub.status.busy": "2023-09-06T12:43:10.284162Z",
     "iopub.status.idle": "2023-09-06T12:43:10.428163Z",
     "shell.execute_reply": "2023-09-06T12:43:10.427197Z",
     "shell.execute_reply.started": "2023-09-06T12:43:10.287402Z"
    }
   },
   "outputs": [],
   "source": [
    "for num_clusters in range(2, 11):  # Evaluate cluster numbers from 2 to 10\n",
    "    kmeans = KMeans(n_clusters=num_clusters, n_init= 'auto', random_state = 77)  # Replace num_clusters with the number of clusters you want to evaluate\n",
    "    kmeans.fit(pca_df)\n",
    "    labels = kmeans.labels_\n",
    "\n",
    "    # Calculate the Calinski-Harabasz score\n",
    "    calinski_harabasz = calinski_harabasz_score(pca_df, labels)\n",
    "    print(f\"For {num_clusters} clusters, Calinski-Harabasz Score:\", calinski_harabasz)"
   ]
  },
  {
   "cell_type": "markdown",
   "metadata": {},
   "source": [
    "##### With 5 components the best number of clusters is 2 but it gives us less detailed information about the customers. so we continue using 3 clusters."
   ]
  },
  {
   "cell_type": "code",
   "execution_count": null,
   "metadata": {
    "execution": {
     "iopub.execute_input": "2023-09-06T12:43:10.430249Z",
     "iopub.status.busy": "2023-09-06T12:43:10.429348Z",
     "iopub.status.idle": "2023-09-06T12:43:10.460174Z",
     "shell.execute_reply": "2023-09-06T12:43:10.459161Z",
     "shell.execute_reply.started": "2023-09-06T12:43:10.430213Z"
    }
   },
   "outputs": [],
   "source": [
    "kmeans = KMeans(n_clusters=3, n_init= 'auto', random_state = 77)\n",
    "clusters = kmeans.fit_predict(pca_df)\n",
    "pca_df['Target'] = clusters\n",
    "pca_df.head(2)"
   ]
  },
  {
   "cell_type": "code",
   "execution_count": null,
   "metadata": {
    "execution": {
     "iopub.execute_input": "2023-09-06T12:43:10.462404Z",
     "iopub.status.busy": "2023-09-06T12:43:10.461764Z",
     "iopub.status.idle": "2023-09-06T12:43:10.487759Z",
     "shell.execute_reply": "2023-09-06T12:43:10.486506Z",
     "shell.execute_reply.started": "2023-09-06T12:43:10.462358Z"
    }
   },
   "outputs": [],
   "source": [
    "df_train.reset_index(inplace = True, drop = True)\n",
    "df_train['Target'] = pca_df['Target']\n",
    "df_train.head(2)"
   ]
  },
  {
   "cell_type": "markdown",
   "metadata": {},
   "source": [
    "### Let's classify our testing data and compare it with knn classifier."
   ]
  },
  {
   "cell_type": "code",
   "execution_count": null,
   "metadata": {
    "execution": {
     "iopub.execute_input": "2023-09-06T12:43:10.489393Z",
     "iopub.status.busy": "2023-09-06T12:43:10.489070Z",
     "iopub.status.idle": "2023-09-06T12:43:10.525395Z",
     "shell.execute_reply": "2023-09-06T12:43:10.524298Z",
     "shell.execute_reply.started": "2023-09-06T12:43:10.489364Z"
    }
   },
   "outputs": [],
   "source": [
    "# transforming the features of our test dataset using PCA model that we trained\n",
    "pca_df_test_ = pca.transform(data_test)\n",
    "pca_df_test = pd.DataFrame(columns=columns, data=pca_df_test_)\n",
    "\n",
    "# predicting our test data using kmeans\n",
    "clusters = kmeans.predict(pca_df_test)\n",
    "pca_df_test['Target'] = clusters\n",
    "\n",
    "# concat Target columns with original data\n",
    "df_test.reset_index(drop = True, inplace = True)\n",
    "df_test['Target'] = pca_df_test['Target']\n",
    "df_test.head(2)"
   ]
  },
  {
   "cell_type": "code",
   "execution_count": null,
   "metadata": {
    "execution": {
     "iopub.execute_input": "2023-09-06T12:43:10.527126Z",
     "iopub.status.busy": "2023-09-06T12:43:10.526817Z",
     "iopub.status.idle": "2023-09-06T12:43:10.548038Z",
     "shell.execute_reply": "2023-09-06T12:43:10.547160Z",
     "shell.execute_reply.started": "2023-09-06T12:43:10.527099Z"
    }
   },
   "outputs": [],
   "source": [
    "# which features contribute more to the variance according to Principle component analysis:\n",
    "pca_components = pd.DataFrame(data = pca.components_, columns = data_train.columns)\n",
    "\n",
    "# we want to see all the columns\n",
    "pd.set_option('display.max_columns', None)\n",
    "\n",
    "pca_components"
   ]
  },
  {
   "cell_type": "code",
   "execution_count": null,
   "metadata": {
    "execution": {
     "iopub.execute_input": "2023-09-06T12:45:34.223284Z",
     "iopub.status.busy": "2023-09-06T12:45:34.222054Z",
     "iopub.status.idle": "2023-09-06T12:45:34.232241Z",
     "shell.execute_reply": "2023-09-06T12:45:34.230651Z",
     "shell.execute_reply.started": "2023-09-06T12:45:34.223239Z"
    }
   },
   "outputs": [],
   "source": [
    "# loop to iterate through all the pca_components dataframe and printing the feature names which the values > 0.2 which are more important\n",
    "cols = []\n",
    "for i in range(0, len(pca_components.columns)):\n",
    "    [cols.append(pca_components.columns[i]) for x in pca_components.iloc[: , i].values if x > 0.3 and\n",
    "     pca_components.columns[i] not in cols]\n",
    "    \n",
    "print(cols)"
   ]
  },
  {
   "cell_type": "code",
   "execution_count": null,
   "metadata": {
    "execution": {
     "iopub.execute_input": "2023-09-06T12:43:10.564469Z",
     "iopub.status.busy": "2023-09-06T12:43:10.564093Z",
     "iopub.status.idle": "2023-09-06T12:43:10.584879Z",
     "shell.execute_reply": "2023-09-06T12:43:10.583349Z",
     "shell.execute_reply.started": "2023-09-06T12:43:10.564396Z"
    }
   },
   "outputs": [],
   "source": [
    "clf_knn = KNeighborsClassifier(n_neighbors=5)\n",
    "\n",
    "x_train = df_train[cols]\n",
    "y_train = df_train['Target']\n",
    "\n",
    "clf_knn.fit(x_train, y_train)"
   ]
  },
  {
   "cell_type": "code",
   "execution_count": null,
   "metadata": {
    "execution": {
     "iopub.execute_input": "2023-09-06T12:43:10.587401Z",
     "iopub.status.busy": "2023-09-06T12:43:10.586647Z",
     "iopub.status.idle": "2023-09-06T12:43:10.634201Z",
     "shell.execute_reply": "2023-09-06T12:43:10.633213Z",
     "shell.execute_reply.started": "2023-09-06T12:43:10.587335Z"
    }
   },
   "outputs": [],
   "source": [
    "y_pred = clf_knn.predict(df_test[cols])\n",
    "y_true = df_test['Target']\n",
    "\n",
    "print(classification_report(y_true, y_pred))"
   ]
  },
  {
   "cell_type": "markdown",
   "metadata": {},
   "source": [
    "Although i have trained the KNN by the original data, it gave me a pretty good result. The result would be much higher if i would have trained the model using the scaled data. But this result is more reliable because it is not overfitted. I should also mention that this evaluation is just a metric we can look into but observation in the data is more important because KMeans is an unsupervised machine learning model and if it poorly categorize the data, this classification report is also unusable.  "
   ]
  }
 ],
 "metadata": {
  "kernelspec": {
   "display_name": "Python 3 (ipykernel)",
   "language": "python",
   "name": "python3"
  },
  "language_info": {
   "codemirror_mode": {
    "name": "ipython",
    "version": 3
   },
   "file_extension": ".py",
   "mimetype": "text/x-python",
   "name": "python",
   "nbconvert_exporter": "python",
   "pygments_lexer": "ipython3",
   "version": "3.10.9"
  }
 },
 "nbformat": 4,
 "nbformat_minor": 4
}
